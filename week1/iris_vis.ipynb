{
 "cells": [
  {
   "cell_type": "code",
   "execution_count": 1,
   "id": "576564e0-9e21-4c74-b5e6-ccd8daa1bdab",
   "metadata": {},
   "outputs": [
    {
     "name": "stdout",
     "output_type": "stream",
     "text": [
      "Requirement already satisfied: pandas in c:\\users\\anits-csm\\appdata\\local\\programs\\python\\python39\\lib\\site-packages (2.1.4)\n",
      "Requirement already satisfied: numpy<2,>=1.22.4 in c:\\users\\anits-csm\\appdata\\local\\programs\\python\\python39\\lib\\site-packages (from pandas) (1.26.4)\n",
      "Requirement already satisfied: python-dateutil>=2.8.2 in c:\\users\\anits-csm\\appdata\\local\\programs\\python\\python39\\lib\\site-packages (from pandas) (2.9.0.post0)\n",
      "Requirement already satisfied: pytz>=2020.1 in c:\\users\\anits-csm\\appdata\\local\\programs\\python\\python39\\lib\\site-packages (from pandas) (2024.2)\n",
      "Requirement already satisfied: tzdata>=2022.1 in c:\\users\\anits-csm\\appdata\\local\\programs\\python\\python39\\lib\\site-packages (from pandas) (2025.1)\n",
      "Requirement already satisfied: six>=1.5 in c:\\users\\anits-csm\\appdata\\local\\programs\\python\\python39\\lib\\site-packages (from python-dateutil>=2.8.2->pandas) (1.17.0)\n"
     ]
    }
   ],
   "source": [
    "!pip install pandas"
   ]
  },
  {
   "cell_type": "code",
   "execution_count": 2,
   "id": "6f9c36f0-6cab-4d0c-96e9-443caf944ddb",
   "metadata": {},
   "outputs": [],
   "source": [
    "import pandas as pd"
   ]
  },
  {
   "cell_type": "code",
   "execution_count": 13,
   "id": "84236146-f47f-42d8-8374-a23de86710af",
   "metadata": {},
   "outputs": [],
   "source": [
    "data = pd.read_csv(\"iris.csv\")"
   ]
  },
  {
   "cell_type": "code",
   "execution_count": 28,
   "id": "aeb5cd4f-5779-444a-bfa7-e7a9f9aa39ab",
   "metadata": {},
   "outputs": [],
   "source": [
    "df = pd.DataFrame(data)\n",
    "numerical_cols = ['SepalLengthCm', 'SepalWidthCm', 'PetalLengthCm', 'PetalWidthCm']\n",
    "df_num = df[numerical_cols]"
   ]
  },
  {
   "cell_type": "code",
   "execution_count": 40,
   "id": "2003ff3c-45a8-46fe-9123-19ed011ace38",
   "metadata": {},
   "outputs": [],
   "source": [
    "stats = df_num.describe()\n",
    "mean = stats.loc['mean']\n",
    "std = stats.loc['std']\n",
    "q1 = stats.loc['25%']\n",
    "q3 = stats.loc['75%']\n",
    "median = stats.loc['50%']\n",
    "mode = df_num.mode().iloc[0]\n",
    "var = df_num.var()\n",
    "iqr = q3 - q1"
   ]
  },
  {
   "cell_type": "code",
   "execution_count": 41,
   "id": "17e19d94-0a79-4f08-b7f3-8994e2049714",
   "metadata": {},
   "outputs": [],
   "source": [
    "stats = pd.DataFrame({\n",
    "    \"Mean\": mean,\n",
    "    \"Median\": median,\n",
    "    \"Mode\": mode,\n",
    "    \"Variance\": var,\n",
    "    \"Standard Deviation\": std,\n",
    "    \"25%\": q1,\n",
    "    \"75%\": q3,\n",
    "    \"Interquartile Range (IQR)\": iqr,\n",
    "})"
   ]
  },
  {
   "cell_type": "code",
   "execution_count": 42,
   "id": "9b275ddf-2143-4b7f-b9a2-7d09535ea71e",
   "metadata": {},
   "outputs": [
    {
     "name": "stdout",
     "output_type": "stream",
     "text": [
      "                   Mean  Median  Mode  Variance  Standard Deviation  25%  75%  \\\n",
      "SepalLengthCm  5.843333    5.80   5.0  0.685694            0.828066  5.1  6.4   \n",
      "SepalWidthCm   3.054000    3.00   3.0  0.188004            0.433594  2.8  3.3   \n",
      "PetalLengthCm  3.758667    4.35   1.5  3.113179            1.764420  1.6  5.1   \n",
      "PetalWidthCm   1.198667    1.30   0.2  0.582414            0.763161  0.3  1.8   \n",
      "\n",
      "               Interquartile Range (IQR)  \n",
      "SepalLengthCm                        1.3  \n",
      "SepalWidthCm                         0.5  \n",
      "PetalLengthCm                        3.5  \n",
      "PetalWidthCm                         1.5  \n"
     ]
    }
   ],
   "source": [
    "print(stats)"
   ]
  },
  {
   "cell_type": "code",
   "execution_count": null,
   "id": "20a27b3f-2c03-4e1e-b892-ec899fa26925",
   "metadata": {},
   "outputs": [],
   "source": []
  }
 ],
 "metadata": {
  "kernelspec": {
   "display_name": "Python 3 (ipykernel)",
   "language": "python",
   "name": "python3"
  },
  "language_info": {
   "codemirror_mode": {
    "name": "ipython",
    "version": 3
   },
   "file_extension": ".py",
   "mimetype": "text/x-python",
   "name": "python",
   "nbconvert_exporter": "python",
   "pygments_lexer": "ipython3",
   "version": "3.9.2"
  }
 },
 "nbformat": 4,
 "nbformat_minor": 5
}
